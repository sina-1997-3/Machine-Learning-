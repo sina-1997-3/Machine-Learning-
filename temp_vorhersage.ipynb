{
 "cells": [
  {
   "cell_type": "code",
   "execution_count": 9,
   "metadata": {},
   "outputs": [
    {
     "name": "stdout",
     "output_type": "stream",
     "text": [
      "        Datum             Feiertag  Vorhergesagte_Temperatur\n",
      "0  2020-01-01              Neujahr                  4.857194\n",
      "1  2020-04-06           Karfreitag                  4.792103\n",
      "2  2020-04-09          Ostermontag                  4.890760\n",
      "3  2020-05-01       Tag der Arbeit                  4.923873\n",
      "4  2020-05-17  Christi Himmelfahrt                  4.989645\n"
     ]
    }
   ],
   "source": [
    "import pandas as pd\n",
    "import numpy as np\n",
    "from sklearn.linear_model import LinearRegression\n",
    "from sklearn.model_selection import train_test_split\n",
    "\n",
    "# Beispiel für die Feiertage in den nächsten 5 Jahren (2020-2024)\n",
    "years = [2020, 2021, 2022, 2023, 2024]\n",
    "holiday_data = []\n",
    "for year in years:\n",
    "    holiday_data.extend(generate_holidays(year))\n",
    "\n",
    "# Lade die vorhandenen Feiertagsdaten und erstelle das Modell wie vorher\n",
    "df = pd.read_csv('kombinierte_feiertage_wetter.csv', delimiter=',')\n",
    "df.columns = ['Datum', 'Wochentag', 'Feiertag', 'Temperatur', 'Werte_2', 'Werte_3', 'Werte_4']\n",
    "df['Datum'] = pd.to_datetime(df['Datum'], format='%Y-%m-%d')\n",
    "\n",
    "# Fehlende Werte behandeln\n",
    "df = df.dropna(subset=['Temperatur'])\n",
    "df['Wochentag_num'] = df['Datum'].dt.weekday  # 0=Montag, 1=Dienstag, ..., 6=Sonntag\n",
    "df['Monat'] = df['Datum'].dt.month\n",
    "\n",
    "# Eingabewerte und Ziel definieren\n",
    "X = df[['Wochentag_num', 'Monat']]  # Features: Wochentag und Monat\n",
    "y = df['Temperatur']  # Ziel: Temperatur\n",
    "\n",
    "# Train-Test-Split (80% Training, 20% Test)\n",
    "X_train, X_test, y_train, y_test = train_test_split(X, y, test_size=0.2, random_state=42)\n",
    "\n",
    "# Lineare Regression\n",
    "model = LinearRegression()\n",
    "model.fit(X_train, y_train)\n",
    "\n",
    "# Vorhersage für jeden Feiertag in den Jahren 2020 bis 2024\n",
    "forecast_data = []\n",
    "for holiday in holiday_data:\n",
    "    # Feiertagsdatum und Name trennen\n",
    "    date_str, holiday_name = holiday.split(' ', 1)\n",
    "    date = pd.to_datetime(date_str)\n",
    "    \n",
    "    # Wochentag und Monat extrahieren\n",
    "    weekday_num = date.weekday()  # Wochentag (0=Montag, ..., 6=Sonntag)\n",
    "    month = date.month\n",
    "    \n",
    "    # Vorhersage der Temperatur mit dem Modell\n",
    "    # Übergebe die Eingabewerte als DataFrame mit Spaltennamen\n",
    "    prediction = model.predict(pd.DataFrame([[weekday_num, month]], columns=['Wochentag_num', 'Monat']))[0]\n",
    "    \n",
    "    # Ergebnis speichern\n",
    "    forecast_data.append([date_str, holiday_name, prediction])\n",
    "\n",
    "# Erstelle ein DataFrame aus den Vorhersagen\n",
    "forecast_df = pd.DataFrame(forecast_data, columns=['Datum', 'Feiertag', 'Vorhergesagte_Temperatur'])\n",
    "\n",
    "# Speichere die Ergebnisse in einer CSV-Datei\n",
    "forecast_df.to_csv('feiertags_temperature_predictions_2020_2024.csv', index=False)\n",
    "\n",
    "# Ausgabe des DataFrames für eine Ansicht\n",
    "print(forecast_df.head())"
   ]
  },
  {
   "cell_type": "code",
   "execution_count": null,
   "metadata": {},
   "outputs": [],
   "source": []
  }
 ],
 "metadata": {
  "kernelspec": {
   "display_name": "Python 3",
   "language": "python",
   "name": "python3"
  },
  "language_info": {
   "codemirror_mode": {
    "name": "ipython",
    "version": 3
   },
   "file_extension": ".py",
   "mimetype": "text/x-python",
   "name": "python",
   "nbconvert_exporter": "python",
   "pygments_lexer": "ipython3",
   "version": "3.12.1"
  }
 },
 "nbformat": 4,
 "nbformat_minor": 2
}

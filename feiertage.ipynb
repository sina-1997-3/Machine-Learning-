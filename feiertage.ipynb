{
 "cells": [
  {
   "cell_type": "code",
   "execution_count": 1,
   "metadata": {},
   "outputs": [],
   "source": [
    "import pandas as pd\n",
    "import numpy as np\n",
    "import locale\n",
    "import os"
   ]
  },
  {
   "cell_type": "code",
   "execution_count": 2,
   "metadata": {},
   "outputs": [],
   "source": [
    "# **1. Ursprüngliche Daten laden**\n",
    "\n",
    "# Überprüfen, ob alle benötigten Dateien vorhanden sind\n",
    "required_files = [\"umsatzdaten_gekuerzt.csv\", \"kiwo.csv\", \"wetter.csv\", \"Data Import and Preparation/feiertage.csv\"]\n",
    "for file in required_files:\n",
    "    if not os.path.exists(file):\n",
    "        raise FileNotFoundError(f\"Datei '{file}' nicht gefunden.\")\n",
    "\n",
    "# Daten laden\n",
    "umsatzdaten = pd.read_csv(\"umsatzdaten_gekuerzt.csv\")\n",
    "kiwo_data = pd.read_csv(\"kiwo.csv\")\n",
    "wetter_data = pd.read_csv(\"wetter.csv\")\n",
    "feiertage = pd.read_csv(\"Data Import and Preparation/feiertage.csv\")  # Enthält Spalten 'Datum' und 'Feiertag'"
   ]
  },
  {
   "cell_type": "code",
   "execution_count": 3,
   "metadata": {},
   "outputs": [
    {
     "name": "stdout",
     "output_type": "stream",
     "text": [
      "Feiertage-Datensatz (erste 5 Zeilen):\n",
      "       Datum Feiertag                                               Name  \\\n",
      "2 2014-01-01   Montag                                        Neujahrstag   \n",
      "3 2016-01-06  Samstag                                Heilige Drei Könige   \n",
      "4 2014-01-06  Samstag                                Heilige Drei Könige   \n",
      "5 2016-01-22   Montag                          Deutsch-Französischer Tag   \n",
      "6 2015-01-27  Samstag  Tag des Gedenkens an die Opfer des Nationalsoz...   \n",
      "\n",
      "                                Art       Details  \n",
      "2               Nationaler Feiertag           NaN  \n",
      "3  Fest- oder Gedenktag, Christlich  NDS*, SN, TH  \n",
      "4               Regionaler Feiertag    BW, BY, ST  \n",
      "5              Fest- oder Gedenktag           NaN  \n",
      "6              Fest- oder Gedenktag           NaN  \n",
      "\n",
      "Umsatzdaten-Datensatz (erste 5 Zeilen):\n",
      "       Datum  Warengruppe      Umsatz\n",
      "0 2013-07-01            1  148.828353\n",
      "1 2013-07-02            1  159.793757\n",
      "2 2013-07-03            1  111.885594\n",
      "3 2013-07-04            1  168.864941\n",
      "4 2013-07-05            1  171.280754\n"
     ]
    }
   ],
   "source": [
    "# **2. Daten vorverarbeiten**\n",
    "\n",
    "# Konvertiere 'Datum' in datetime für alle Datensätze\n",
    "umsatzdaten['Datum'] = pd.to_datetime(umsatzdaten['Datum'], errors='coerce')\n",
    "kiwo_data['Datum'] = pd.to_datetime(kiwo_data['Datum'], errors='coerce')\n",
    "wetter_data['Datum'] = pd.to_datetime(wetter_data['Datum'], errors='coerce')\n",
    "\n",
    "# Locale auf Deutsch setzen, damit Datumsformate korrekt interpretiert werden\n",
    "try:\n",
    "    locale.setlocale(locale.LC_TIME, 'de_DE.UTF-8')\n",
    "except locale.Error:\n",
    "    print(\"Locale-Einstellung auf 'de_DE.UTF-8' fehlgeschlagen. Weiter ohne Locale.\")\n",
    "\n",
    "# 'Datum' im feiertage-Datensatz anpassen\n",
    "# Jahr zufällig zwischen 2013 und 2018 setzen\n",
    "def adjust_year(date_str):\n",
    "    # Überprüfen, ob der Datumseintrag nicht leer oder NaN ist\n",
    "    if isinstance(date_str, str) and date_str.strip():  # Prüfen, ob es ein nicht-leerer String ist\n",
    "        # Punkt und Leerzeichen entfernen, Jahr zufällig wählen\n",
    "        month_day = date_str.replace('.', '').strip()\n",
    "        year = np.random.choice([2013, 2014, 2015, 2016, 2017, 2018])  # Zufällig ein Jahr zwischen 2013 und 2018 wählen\n",
    "        return f\"{month_day} {year}\"\n",
    "    else:\n",
    "        return np.nan  # Rückgabe von NaN, wenn der Eintrag ungültig oder leer ist\n",
    "\n",
    "# Anwendung der Jahr-Anpassung auf die 'Datum'-Spalte\n",
    "feiertage['Datum'] = feiertage['Datum'].apply(adjust_year)\n",
    "\n",
    "# Konvertiere die angepasste 'Datum'-Spalte in datetime\n",
    "feiertage['Datum'] = pd.to_datetime(feiertage['Datum'], format='%d %b %Y', errors='coerce')\n",
    "\n",
    "# Zeilen mit nicht parsebaren Datumswerten entfernen\n",
    "feiertage = feiertage.dropna(subset=['Datum'])\n",
    "\n",
    "# Debug: Überprüfen der ersten paar Zeilen des feiertage- und umsatzdaten-Datensatzes\n",
    "print(\"Feiertage-Datensatz (erste 5 Zeilen):\")\n",
    "print(feiertage.head())\n",
    "\n",
    "print(\"\\nUmsatzdaten-Datensatz (erste 5 Zeilen):\")\n",
    "print(umsatzdaten.head())"
   ]
  },
  {
   "cell_type": "code",
   "execution_count": 4,
   "metadata": {},
   "outputs": [],
   "source": [
    "# **3. Daten zusammenführen**\n",
    "\n",
    "# Die Datensätze anhand des 'Datum' zusammenführen\n",
    "merged_data = umsatzdaten.merge(kiwo_data, on='Datum', how='left')\n",
    "merged_data = merged_data.merge(wetter_data, on='Datum', how='left')\n",
    "\n",
    "# Die Feiertagsdaten anhand des 'Datum' hinzufügen, nur die Spalte 'Feiertag' beibehalten\n",
    "merged_data = merged_data.merge(feiertage[['Datum', 'Name']], on='Datum', how='left')"
   ]
  },
  {
   "cell_type": "code",
   "execution_count": null,
   "metadata": {},
   "outputs": [],
   "source": [
    "# **4. Zusätzliche Variablen erstellen**\n",
    "\n",
    "# Wochentag hinzufügen (Name des Wochentags)\n",
    "merged_data['Wochentag'] = merged_data['Datum'].dt.day_name()\n",
    "\n",
    "# Monat als numerischen Wert hinzufügen\n",
    "merged_data['Monat'] = merged_data['Datum'].dt.month\n",
    "\n",
    "# Binäre Feiertags-Flagge hinzufügen (1 für Feiertag, 0 für keinen Feiertag)\n",
    "merged_data['Ist_Feiertag'] = merged_data['Feiertag'].notnull().astype(int)\n",
    "\n",
    "# Quartal hinzufügen\n",
    "merged_data['Quartal'] = merged_data['Datum'].dt.quarter\n",
    "\n",
    "# Saisonale Variable hinzufügen\n",
    "def get_season(month):\n",
    "    if month in [12, 1, 2]:\n",
    "        return \"Winter\"\n",
    "    elif month in [3, 4, 5]:\n",
    "        return \"Frühling\"\n",
    "    elif month in [6, 7, 8]:\n",
    "        return \"Sommer\"\n",
    "    else:\n",
    "        return \"Herbst\"\n",
    "\n",
    "merged_data['Saison'] = merged_data['Monat'].apply(get_season)\n",
    "\n",
    "# Wochenend-Flagge hinzufügen (Samstag/Sonntag)\n",
    "merged_data['Ist_Wochenende'] = merged_data['Wochentag'].isin(['Saturday', 'Sunday']).astype(int)"
   ]
  },
  {
   "cell_type": "code",
   "execution_count": 5,
   "metadata": {},
   "outputs": [],
   "source": [
    "# **5. Aufbereitung der Variablen**\n",
    "\n",
    "# Fehlende Werte behandeln (falls notwendig)\n",
    "merged_data.fillna(0, inplace=True)"
   ]
  },
  {
   "cell_type": "code",
   "execution_count": 6,
   "metadata": {},
   "outputs": [],
   "source": [
    "\n",
    "# **6. Exportieren des finalen Datensatzes**\n",
    "\n",
    "# Erstelle das Ausgabeverzeichnis, falls es noch nicht existiert\n",
    "output_dir = \"data\"\n",
    "if not os.path.exists(output_dir):\n",
    "    os.makedirs(output_dir)\n",
    "\n",
    "# Exportiere den zusammengeführten Datensatz\n",
    "merged_data.to_csv(f\"{output_dir}/zusammengefuehrt.csv\", index=False)"
   ]
  },
  {
   "cell_type": "code",
   "execution_count": 7,
   "metadata": {},
   "outputs": [
    {
     "name": "stdout",
     "output_type": "stream",
     "text": [
      "Zusammengeführter Datensatz (erste 5 Zeilen):\n",
      "       Datum  Warengruppe      Umsatz  KielerWoche  Bewoelkung  Temperatur  \\\n",
      "0 2013-07-01            1  148.828353          0.0         6.0     17.8375   \n",
      "1 2013-07-02            1  159.793757          0.0         3.0     17.3125   \n",
      "2 2013-07-03            1  111.885594          0.0         7.0     21.0750   \n",
      "3 2013-07-04            1  168.864941          0.0         7.0     18.8500   \n",
      "4 2013-07-05            1  171.280754          0.0         5.0     19.9750   \n",
      "\n",
      "   Windgeschwindigkeit  Wettercode Name  \n",
      "0                 15.0        20.0    0  \n",
      "1                 10.0         0.0    0  \n",
      "2                  6.0        61.0    0  \n",
      "3                  7.0        20.0    0  \n",
      "4                 12.0         0.0    0  \n"
     ]
    }
   ],
   "source": [
    "# **7. Vorschau auf den finalen Datensatz**\n",
    "print(\"Zusammengeführter Datensatz (erste 5 Zeilen):\")\n",
    "print(merged_data.head())"
   ]
  }
 ],
 "metadata": {
  "kernelspec": {
   "display_name": "Python 3",
   "language": "python",
   "name": "python3"
  },
  "language_info": {
   "codemirror_mode": {
    "name": "ipython",
    "version": 3
   },
   "file_extension": ".py",
   "mimetype": "text/x-python",
   "name": "python",
   "nbconvert_exporter": "python",
   "pygments_lexer": "ipython3",
   "version": "3.10.0"
  }
 },
 "nbformat": 4,
 "nbformat_minor": 2
}

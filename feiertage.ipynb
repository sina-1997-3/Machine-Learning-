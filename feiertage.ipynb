{
 "cells": [
  {
   "cell_type": "code",
   "execution_count": 28,
   "metadata": {},
   "outputs": [],
   "source": [
    "import pandas as pd\n",
    "import numpy as np\n",
    "import locale\n",
    "import os"
   ]
  },
  {
   "cell_type": "code",
   "execution_count": 29,
   "metadata": {},
   "outputs": [],
   "source": [
    "# **1. Ursprüngliche Daten laden**\n",
    "\n",
    "# Überprüfen, ob alle benötigten Dateien vorhanden sind\n",
    "required_files = [\"umsatzdaten_gekuerzt.csv\", \"kiwo.csv\", \"wetter.csv\", \"Data Import and Preparation/feiertage.csv\"]\n",
    "for file in required_files:\n",
    "    if not os.path.exists(file):\n",
    "        raise FileNotFoundError(f\"Datei '{file}' nicht gefunden.\")\n",
    "\n",
    "# Daten laden\n",
    "umsatzdaten = pd.read_csv(\"umsatzdaten_gekuerzt.csv\")\n",
    "kiwo_data = pd.read_csv(\"kiwo.csv\")\n",
    "wetter_data = pd.read_csv(\"wetter.csv\")\n",
    "feiertage = pd.read_csv(\"Data Import and Preparation/feiertage.csv\")  # Enthält Spalten 'Datum' und 'Feiertag'"
   ]
  },
  {
   "cell_type": "code",
   "execution_count": 34,
   "metadata": {},
   "outputs": [
    {
     "name": "stdout",
     "output_type": "stream",
     "text": [
      "Feiertage-Datensatz (erste 5 Zeilen):\n",
      "Empty DataFrame\n",
      "Columns: [Datum, Feiertag, Name, Art, Details]\n",
      "Index: []\n",
      "\n",
      "Umsatzdaten-Datensatz (erste 5 Zeilen):\n",
      "       Datum  Warengruppe      Umsatz\n",
      "0 2013-07-01            1  148.828353\n",
      "1 2013-07-02            1  159.793757\n",
      "2 2013-07-03            1  111.885594\n",
      "3 2013-07-04            1  168.864941\n",
      "4 2013-07-05            1  171.280754\n"
     ]
    }
   ],
   "source": [
    "# **2. Daten vorverarbeiten**\n",
    "\n",
    "# Konvertiere 'Datum' in datetime für alle Datensätze\n",
    "umsatzdaten['Datum'] = pd.to_datetime(umsatzdaten['Datum'], errors='coerce')\n",
    "kiwo_data['Datum'] = pd.to_datetime(kiwo_data['Datum'], errors='coerce')\n",
    "wetter_data['Datum'] = pd.to_datetime(wetter_data['Datum'], errors='coerce')\n",
    "\n",
    "# Locale auf Deutsch setzen, damit Datumsformate korrekt interpretiert werden\n",
    "try:\n",
    "    locale.setlocale(locale.LC_TIME, 'de_DE.UTF-8')\n",
    "except locale.Error:\n",
    "    print(\"Locale-Einstellung auf 'de_DE.UTF-8' fehlgeschlagen. Weiter ohne Locale.\")\n",
    "\n",
    "# 'Datum' im feiertage-Datensatz anpassen\n",
    "# Jahr zufällig zwischen 2013 und 2018 setzen\n",
    "def adjust_year(date_str):\n",
    "    # Überprüfen, ob der Datumseintrag nicht leer oder NaN ist\n",
    "    if isinstance(date_str, str) and date_str.strip():  # Prüfen, ob es ein nicht-leerer String ist\n",
    "        # Punkt und Leerzeichen entfernen, Jahr zufällig wählen\n",
    "        month_day = date_str.replace('.', '').strip()\n",
    "        year = np.random.choice([2013, 2014, 2015, 2016, 2017, 2018])  # Zufällig ein Jahr zwischen 2013 und 2018 wählen\n",
    "        return f\"{month_day} {year}\"\n",
    "    else:\n",
    "        return np.nan  # Rückgabe von NaN, wenn der Eintrag ungültig oder leer ist\n",
    "\n",
    "# Anwendung der Jahr-Anpassung auf die 'Datum'-Spalte\n",
    "feiertage['Datum'] = feiertage['Datum'].apply(adjust_year)\n",
    "\n",
    "# Konvertiere die angepasste 'Datum'-Spalte in datetime\n",
    "feiertage['Datum'] = pd.to_datetime(feiertage['Datum'], format='%d %b %Y', errors='coerce')\n",
    "\n",
    "# Zeilen mit nicht parsebaren Datumswerten entfernen\n",
    "feiertage = feiertage.dropna(subset=['Datum'])\n",
    "\n",
    "# Debug: Überprüfen der ersten paar Zeilen des feiertage- und umsatzdaten-Datensatzes\n",
    "print(\"Feiertage-Datensatz (erste 5 Zeilen):\")\n",
    "print(feiertage.head())\n",
    "\n",
    "print(\"\\nUmsatzdaten-Datensatz (erste 5 Zeilen):\")\n",
    "print(umsatzdaten.head())"
   ]
  },
  {
   "cell_type": "code",
   "execution_count": null,
   "metadata": {},
   "outputs": [
    {
     "ename": "ValueError",
     "evalue": "The column label 'Datum' is not unique.",
     "output_type": "error",
     "traceback": [
      "\u001b[1;31m---------------------------------------------------------------------------\u001b[0m",
      "\u001b[1;31mValueError\u001b[0m                                Traceback (most recent call last)",
      "\u001b[1;32m~\\AppData\\Local\\Temp\\ipykernel_26460\\1294874695.py\u001b[0m in \u001b[0;36m?\u001b[1;34m()\u001b[0m\n\u001b[0;32m      4\u001b[0m \u001b[0mmerged_data\u001b[0m \u001b[1;33m=\u001b[0m \u001b[0mumsatzdaten\u001b[0m\u001b[1;33m.\u001b[0m\u001b[0mmerge\u001b[0m\u001b[1;33m(\u001b[0m\u001b[0mkiwo_data\u001b[0m\u001b[1;33m,\u001b[0m \u001b[0mon\u001b[0m\u001b[1;33m=\u001b[0m\u001b[1;34m'Datum'\u001b[0m\u001b[1;33m,\u001b[0m \u001b[0mhow\u001b[0m\u001b[1;33m=\u001b[0m\u001b[1;34m'left'\u001b[0m\u001b[1;33m)\u001b[0m\u001b[1;33m\u001b[0m\u001b[1;33m\u001b[0m\u001b[0m\n\u001b[0;32m      5\u001b[0m \u001b[0mmerged_data\u001b[0m \u001b[1;33m=\u001b[0m \u001b[0mmerged_data\u001b[0m\u001b[1;33m.\u001b[0m\u001b[0mmerge\u001b[0m\u001b[1;33m(\u001b[0m\u001b[0mwetter_data\u001b[0m\u001b[1;33m,\u001b[0m \u001b[0mon\u001b[0m\u001b[1;33m=\u001b[0m\u001b[1;34m'Datum'\u001b[0m\u001b[1;33m,\u001b[0m \u001b[0mhow\u001b[0m\u001b[1;33m=\u001b[0m\u001b[1;34m'left'\u001b[0m\u001b[1;33m)\u001b[0m\u001b[1;33m\u001b[0m\u001b[1;33m\u001b[0m\u001b[0m\n\u001b[0;32m      6\u001b[0m \u001b[1;33m\u001b[0m\u001b[0m\n\u001b[0;32m      7\u001b[0m \u001b[1;31m# Die Feiertagsdaten anhand des 'Datum' hinzufügen, nur die Spalte 'Feiertag' beibehalten\u001b[0m\u001b[1;33m\u001b[0m\u001b[1;33m\u001b[0m\u001b[0m\n\u001b[1;32m----> 8\u001b[1;33m \u001b[0mmerged_data\u001b[0m \u001b[1;33m=\u001b[0m \u001b[0mmerged_data\u001b[0m\u001b[1;33m.\u001b[0m\u001b[0mmerge\u001b[0m\u001b[1;33m(\u001b[0m\u001b[0mfeiertage\u001b[0m\u001b[1;33m[\u001b[0m\u001b[1;33m[\u001b[0m\u001b[1;34m'Datum'\u001b[0m\u001b[1;33m,\u001b[0m \u001b[1;34m'Datum'\u001b[0m\u001b[1;33m]\u001b[0m\u001b[1;33m]\u001b[0m\u001b[1;33m,\u001b[0m \u001b[0mon\u001b[0m\u001b[1;33m=\u001b[0m\u001b[1;34m'Datum'\u001b[0m\u001b[1;33m,\u001b[0m \u001b[0mhow\u001b[0m\u001b[1;33m=\u001b[0m\u001b[1;34m'left'\u001b[0m\u001b[1;33m)\u001b[0m\u001b[1;33m\u001b[0m\u001b[1;33m\u001b[0m\u001b[0m\n\u001b[0m",
      "\u001b[1;32m~\\AppData\\Local\\Packages\\PythonSoftwareFoundation.Python.3.12_qbz5n2kfra8p0\\LocalCache\\local-packages\\Python312\\site-packages\\pandas\\core\\frame.py\u001b[0m in \u001b[0;36m?\u001b[1;34m(self, right, how, on, left_on, right_on, left_index, right_index, sort, suffixes, copy, indicator, validate)\u001b[0m\n\u001b[0;32m  10828\u001b[0m         \u001b[0mvalidate\u001b[0m\u001b[1;33m:\u001b[0m \u001b[0mMergeValidate\u001b[0m \u001b[1;33m|\u001b[0m \u001b[1;32mNone\u001b[0m \u001b[1;33m=\u001b[0m \u001b[1;32mNone\u001b[0m\u001b[1;33m,\u001b[0m\u001b[1;33m\u001b[0m\u001b[1;33m\u001b[0m\u001b[0m\n\u001b[0;32m  10829\u001b[0m     \u001b[1;33m)\u001b[0m \u001b[1;33m->\u001b[0m \u001b[0mDataFrame\u001b[0m\u001b[1;33m:\u001b[0m\u001b[1;33m\u001b[0m\u001b[1;33m\u001b[0m\u001b[0m\n\u001b[0;32m  10830\u001b[0m         \u001b[1;32mfrom\u001b[0m \u001b[0mpandas\u001b[0m\u001b[1;33m.\u001b[0m\u001b[0mcore\u001b[0m\u001b[1;33m.\u001b[0m\u001b[0mreshape\u001b[0m\u001b[1;33m.\u001b[0m\u001b[0mmerge\u001b[0m \u001b[1;32mimport\u001b[0m \u001b[0mmerge\u001b[0m\u001b[1;33m\u001b[0m\u001b[1;33m\u001b[0m\u001b[0m\n\u001b[0;32m  10831\u001b[0m \u001b[1;33m\u001b[0m\u001b[0m\n\u001b[1;32m> 10832\u001b[1;33m         return merge(\n\u001b[0m\u001b[0;32m  10833\u001b[0m             \u001b[0mself\u001b[0m\u001b[1;33m,\u001b[0m\u001b[1;33m\u001b[0m\u001b[1;33m\u001b[0m\u001b[0m\n\u001b[0;32m  10834\u001b[0m             \u001b[0mright\u001b[0m\u001b[1;33m,\u001b[0m\u001b[1;33m\u001b[0m\u001b[1;33m\u001b[0m\u001b[0m\n\u001b[0;32m  10835\u001b[0m             \u001b[0mhow\u001b[0m\u001b[1;33m=\u001b[0m\u001b[0mhow\u001b[0m\u001b[1;33m,\u001b[0m\u001b[1;33m\u001b[0m\u001b[1;33m\u001b[0m\u001b[0m\n",
      "\u001b[1;32m~\\AppData\\Local\\Packages\\PythonSoftwareFoundation.Python.3.12_qbz5n2kfra8p0\\LocalCache\\local-packages\\Python312\\site-packages\\pandas\\core\\reshape\\merge.py\u001b[0m in \u001b[0;36m?\u001b[1;34m(left, right, how, on, left_on, right_on, left_index, right_index, sort, suffixes, copy, indicator, validate)\u001b[0m\n\u001b[0;32m    166\u001b[0m             \u001b[0mvalidate\u001b[0m\u001b[1;33m=\u001b[0m\u001b[0mvalidate\u001b[0m\u001b[1;33m,\u001b[0m\u001b[1;33m\u001b[0m\u001b[1;33m\u001b[0m\u001b[0m\n\u001b[0;32m    167\u001b[0m             \u001b[0mcopy\u001b[0m\u001b[1;33m=\u001b[0m\u001b[0mcopy\u001b[0m\u001b[1;33m,\u001b[0m\u001b[1;33m\u001b[0m\u001b[1;33m\u001b[0m\u001b[0m\n\u001b[0;32m    168\u001b[0m         \u001b[1;33m)\u001b[0m\u001b[1;33m\u001b[0m\u001b[1;33m\u001b[0m\u001b[0m\n\u001b[0;32m    169\u001b[0m     \u001b[1;32melse\u001b[0m\u001b[1;33m:\u001b[0m\u001b[1;33m\u001b[0m\u001b[1;33m\u001b[0m\u001b[0m\n\u001b[1;32m--> 170\u001b[1;33m         op = _MergeOperation(\n\u001b[0m\u001b[0;32m    171\u001b[0m             \u001b[0mleft_df\u001b[0m\u001b[1;33m,\u001b[0m\u001b[1;33m\u001b[0m\u001b[1;33m\u001b[0m\u001b[0m\n\u001b[0;32m    172\u001b[0m             \u001b[0mright_df\u001b[0m\u001b[1;33m,\u001b[0m\u001b[1;33m\u001b[0m\u001b[1;33m\u001b[0m\u001b[0m\n\u001b[0;32m    173\u001b[0m             \u001b[0mhow\u001b[0m\u001b[1;33m=\u001b[0m\u001b[0mhow\u001b[0m\u001b[1;33m,\u001b[0m\u001b[1;33m\u001b[0m\u001b[1;33m\u001b[0m\u001b[0m\n",
      "\u001b[1;32m~\\AppData\\Local\\Packages\\PythonSoftwareFoundation.Python.3.12_qbz5n2kfra8p0\\LocalCache\\local-packages\\Python312\\site-packages\\pandas\\core\\reshape\\merge.py\u001b[0m in \u001b[0;36m?\u001b[1;34m(self, left, right, how, on, left_on, right_on, left_index, right_index, sort, suffixes, indicator, validate)\u001b[0m\n\u001b[0;32m    790\u001b[0m             \u001b[0mself\u001b[0m\u001b[1;33m.\u001b[0m\u001b[0mright_join_keys\u001b[0m\u001b[1;33m,\u001b[0m\u001b[1;33m\u001b[0m\u001b[1;33m\u001b[0m\u001b[0m\n\u001b[0;32m    791\u001b[0m             \u001b[0mself\u001b[0m\u001b[1;33m.\u001b[0m\u001b[0mjoin_names\u001b[0m\u001b[1;33m,\u001b[0m\u001b[1;33m\u001b[0m\u001b[1;33m\u001b[0m\u001b[0m\n\u001b[0;32m    792\u001b[0m             \u001b[0mleft_drop\u001b[0m\u001b[1;33m,\u001b[0m\u001b[1;33m\u001b[0m\u001b[1;33m\u001b[0m\u001b[0m\n\u001b[0;32m    793\u001b[0m             \u001b[0mright_drop\u001b[0m\u001b[1;33m,\u001b[0m\u001b[1;33m\u001b[0m\u001b[1;33m\u001b[0m\u001b[0m\n\u001b[1;32m--> 794\u001b[1;33m         \u001b[1;33m)\u001b[0m \u001b[1;33m=\u001b[0m \u001b[0mself\u001b[0m\u001b[1;33m.\u001b[0m\u001b[0m_get_merge_keys\u001b[0m\u001b[1;33m(\u001b[0m\u001b[1;33m)\u001b[0m\u001b[1;33m\u001b[0m\u001b[1;33m\u001b[0m\u001b[0m\n\u001b[0m\u001b[0;32m    795\u001b[0m \u001b[1;33m\u001b[0m\u001b[0m\n\u001b[0;32m    796\u001b[0m         \u001b[1;32mif\u001b[0m \u001b[0mleft_drop\u001b[0m\u001b[1;33m:\u001b[0m\u001b[1;33m\u001b[0m\u001b[1;33m\u001b[0m\u001b[0m\n\u001b[0;32m    797\u001b[0m             \u001b[0mself\u001b[0m\u001b[1;33m.\u001b[0m\u001b[0mleft\u001b[0m \u001b[1;33m=\u001b[0m \u001b[0mself\u001b[0m\u001b[1;33m.\u001b[0m\u001b[0mleft\u001b[0m\u001b[1;33m.\u001b[0m\u001b[0m_drop_labels_or_levels\u001b[0m\u001b[1;33m(\u001b[0m\u001b[0mleft_drop\u001b[0m\u001b[1;33m)\u001b[0m\u001b[1;33m\u001b[0m\u001b[1;33m\u001b[0m\u001b[0m\n",
      "\u001b[1;32m~\\AppData\\Local\\Packages\\PythonSoftwareFoundation.Python.3.12_qbz5n2kfra8p0\\LocalCache\\local-packages\\Python312\\site-packages\\pandas\\core\\reshape\\merge.py\u001b[0m in \u001b[0;36m?\u001b[1;34m(self)\u001b[0m\n\u001b[0;32m   1293\u001b[0m                         \u001b[1;31m# Then we're either Hashable or a wrong-length arraylike,\u001b[0m\u001b[1;33m\u001b[0m\u001b[1;33m\u001b[0m\u001b[0m\n\u001b[0;32m   1294\u001b[0m                         \u001b[1;31m#  the latter of which will raise\u001b[0m\u001b[1;33m\u001b[0m\u001b[1;33m\u001b[0m\u001b[0m\n\u001b[0;32m   1295\u001b[0m                         \u001b[0mrk\u001b[0m \u001b[1;33m=\u001b[0m \u001b[0mcast\u001b[0m\u001b[1;33m(\u001b[0m\u001b[0mHashable\u001b[0m\u001b[1;33m,\u001b[0m \u001b[0mrk\u001b[0m\u001b[1;33m)\u001b[0m\u001b[1;33m\u001b[0m\u001b[1;33m\u001b[0m\u001b[0m\n\u001b[0;32m   1296\u001b[0m                         \u001b[1;32mif\u001b[0m \u001b[0mrk\u001b[0m \u001b[1;32mis\u001b[0m \u001b[1;32mnot\u001b[0m \u001b[1;32mNone\u001b[0m\u001b[1;33m:\u001b[0m\u001b[1;33m\u001b[0m\u001b[1;33m\u001b[0m\u001b[0m\n\u001b[1;32m-> 1297\u001b[1;33m                             \u001b[0mright_keys\u001b[0m\u001b[1;33m.\u001b[0m\u001b[0mappend\u001b[0m\u001b[1;33m(\u001b[0m\u001b[0mright\u001b[0m\u001b[1;33m.\u001b[0m\u001b[0m_get_label_or_level_values\u001b[0m\u001b[1;33m(\u001b[0m\u001b[0mrk\u001b[0m\u001b[1;33m)\u001b[0m\u001b[1;33m)\u001b[0m\u001b[1;33m\u001b[0m\u001b[1;33m\u001b[0m\u001b[0m\n\u001b[0m\u001b[0;32m   1298\u001b[0m                         \u001b[1;32melse\u001b[0m\u001b[1;33m:\u001b[0m\u001b[1;33m\u001b[0m\u001b[1;33m\u001b[0m\u001b[0m\n\u001b[0;32m   1299\u001b[0m                             \u001b[1;31m# work-around for merge_asof(right_index=True)\u001b[0m\u001b[1;33m\u001b[0m\u001b[1;33m\u001b[0m\u001b[0m\n\u001b[0;32m   1300\u001b[0m                             \u001b[0mright_keys\u001b[0m\u001b[1;33m.\u001b[0m\u001b[0mappend\u001b[0m\u001b[1;33m(\u001b[0m\u001b[0mright\u001b[0m\u001b[1;33m.\u001b[0m\u001b[0mindex\u001b[0m\u001b[1;33m.\u001b[0m\u001b[0m_values\u001b[0m\u001b[1;33m)\u001b[0m\u001b[1;33m\u001b[0m\u001b[1;33m\u001b[0m\u001b[0m\n",
      "\u001b[1;32m~\\AppData\\Local\\Packages\\PythonSoftwareFoundation.Python.3.12_qbz5n2kfra8p0\\LocalCache\\local-packages\\Python312\\site-packages\\pandas\\core\\generic.py\u001b[0m in \u001b[0;36m?\u001b[1;34m(self, key, axis)\u001b[0m\n\u001b[0;32m   1921\u001b[0m             \u001b[1;32melse\u001b[0m\u001b[1;33m:\u001b[0m\u001b[1;33m\u001b[0m\u001b[1;33m\u001b[0m\u001b[0m\n\u001b[0;32m   1922\u001b[0m                 \u001b[0mmulti_message\u001b[0m \u001b[1;33m=\u001b[0m \u001b[1;34m\"\"\u001b[0m\u001b[1;33m\u001b[0m\u001b[1;33m\u001b[0m\u001b[0m\n\u001b[0;32m   1923\u001b[0m \u001b[1;33m\u001b[0m\u001b[0m\n\u001b[0;32m   1924\u001b[0m             \u001b[0mlabel_axis_name\u001b[0m \u001b[1;33m=\u001b[0m \u001b[1;34m\"column\"\u001b[0m \u001b[1;32mif\u001b[0m \u001b[0maxis\u001b[0m \u001b[1;33m==\u001b[0m \u001b[1;36m0\u001b[0m \u001b[1;32melse\u001b[0m \u001b[1;34m\"index\"\u001b[0m\u001b[1;33m\u001b[0m\u001b[1;33m\u001b[0m\u001b[0m\n\u001b[1;32m-> 1925\u001b[1;33m             raise ValueError(\n\u001b[0m\u001b[0;32m   1926\u001b[0m                 \u001b[1;33mf\"\u001b[0m\u001b[1;33mThe \u001b[0m\u001b[1;33m{\u001b[0m\u001b[0mlabel_axis_name\u001b[0m\u001b[1;33m}\u001b[0m\u001b[1;33m label '\u001b[0m\u001b[1;33m{\u001b[0m\u001b[0mkey\u001b[0m\u001b[1;33m}\u001b[0m\u001b[1;33m' is not unique.\u001b[0m\u001b[1;33m{\u001b[0m\u001b[0mmulti_message\u001b[0m\u001b[1;33m}\u001b[0m\u001b[1;33m\"\u001b[0m\u001b[1;33m\u001b[0m\u001b[1;33m\u001b[0m\u001b[0m\n\u001b[0;32m   1927\u001b[0m             \u001b[1;33m)\u001b[0m\u001b[1;33m\u001b[0m\u001b[1;33m\u001b[0m\u001b[0m\n\u001b[0;32m   1928\u001b[0m \u001b[1;33m\u001b[0m\u001b[0m\n",
      "\u001b[1;31mValueError\u001b[0m: The column label 'Datum' is not unique."
     ]
    }
   ],
   "source": [
    "# **3. Daten zusammenführen**\n",
    "\n",
    "# Die Datensätze anhand des 'Datum' zusammenführen\n",
    "merged_data = umsatzdaten.merge(kiwo_data, on='Datum', how='left')\n",
    "merged_data = merged_data.merge(wetter_data, on='Datum', how='left')\n",
    "\n",
    "# Die Feiertagsdaten anhand des 'Datum' hinzufügen, nur die Spalte 'Feiertag' beibehalten\n",
    "merged_data = merged_data.merge(feiertage[['Datum', 'Name']], on='Datum', how='left')"
   ]
  },
  {
   "cell_type": "code",
   "execution_count": null,
   "metadata": {},
   "outputs": [],
   "source": [
    "# **4. Zusätzliche Variablen erstellen**\n",
    "\n",
    "# Wochentag hinzufügen (Name des Wochentags)\n",
    "merged_data['Wochentag'] = merged_data['Datum'].dt.day_name()\n",
    "\n",
    "# Monat als numerischen Wert hinzufügen\n",
    "merged_data['Monat'] = merged_data['Datum'].dt.month\n",
    "\n",
    "# Binäre Feiertags-Flagge hinzufügen (1 für Feiertag, 0 für keinen Feiertag)\n",
    "merged_data['Ist_Feiertag'] = merged_data['Feiertag'].notnull().astype(int)\n",
    "\n",
    "# Quartal hinzufügen\n",
    "merged_data['Quartal'] = merged_data['Datum'].dt.quarter\n",
    "\n",
    "# Saisonale Variable hinzufügen\n",
    "def get_season(month):\n",
    "    if month in [12, 1, 2]:\n",
    "        return \"Winter\"\n",
    "    elif month in [3, 4, 5]:\n",
    "        return \"Frühling\"\n",
    "    elif month in [6, 7, 8]:\n",
    "        return \"Sommer\"\n",
    "    else:\n",
    "        return \"Herbst\"\n",
    "\n",
    "merged_data['Saison'] = merged_data['Monat'].apply(get_season)\n",
    "\n",
    "# Wochenend-Flagge hinzufügen (Samstag/Sonntag)\n",
    "merged_data['Ist_Wochenende'] = merged_data['Wochentag'].isin(['Saturday', 'Sunday']).astype(int)"
   ]
  },
  {
   "cell_type": "code",
   "execution_count": 24,
   "metadata": {},
   "outputs": [],
   "source": [
    "# **5. Aufbereitung der Variablen**\n",
    "\n",
    "# Fehlende Werte behandeln (falls notwendig)\n",
    "merged_data.fillna(0, inplace=True)"
   ]
  },
  {
   "cell_type": "code",
   "execution_count": 25,
   "metadata": {},
   "outputs": [],
   "source": [
    "\n",
    "# **6. Exportieren des finalen Datensatzes**\n",
    "\n",
    "# Erstelle das Ausgabeverzeichnis, falls es noch nicht existiert\n",
    "output_dir = \"data\"\n",
    "if not os.path.exists(output_dir):\n",
    "    os.makedirs(output_dir)\n",
    "\n",
    "# Exportiere den zusammengeführten Datensatz\n",
    "merged_data.to_csv(f\"{output_dir}/zusammengefuehrt.csv\", index=False)"
   ]
  },
  {
   "cell_type": "code",
   "execution_count": 18,
   "metadata": {},
   "outputs": [
    {
     "name": "stdout",
     "output_type": "stream",
     "text": [
      "Zusammengeführter Datensatz (erste 5 Zeilen):\n",
      "       Datum  Warengruppe      Umsatz  KielerWoche  Bewoelkung  Temperatur  \\\n",
      "0 2013-07-01            1  148.828353          0.0         6.0     17.8375   \n",
      "1 2013-07-02            1  159.793757          0.0         3.0     17.3125   \n",
      "2 2013-07-03            1  111.885594          0.0         7.0     21.0750   \n",
      "3 2013-07-04            1  168.864941          0.0         7.0     18.8500   \n",
      "4 2013-07-05            1  171.280754          0.0         5.0     19.9750   \n",
      "\n",
      "   Windgeschwindigkeit  Wettercode Feiertag  Wochentag  Monat  Ist_Feiertag  \\\n",
      "0                 15.0        20.0        0     Monday      7             1   \n",
      "1                 10.0         0.0        0    Tuesday      7             1   \n",
      "2                  6.0        61.0        0  Wednesday      7             1   \n",
      "3                  7.0        20.0        0   Thursday      7             1   \n",
      "4                 12.0         0.0        0     Friday      7             1   \n",
      "\n",
      "   Quartal  Saison  Ist_Wochenende  \n",
      "0        3  Sommer               0  \n",
      "1        3  Sommer               0  \n",
      "2        3  Sommer               0  \n",
      "3        3  Sommer               0  \n",
      "4        3  Sommer               0  \n"
     ]
    }
   ],
   "source": [
    "# **7. Vorschau auf den finalen Datensatz**\n",
    "print(\"Zusammengeführter Datensatz (erste 5 Zeilen):\")\n",
    "print(merged_data.head())"
   ]
  }
 ],
 "metadata": {
  "kernelspec": {
   "display_name": "Python 3",
   "language": "python",
   "name": "python3"
  },
  "language_info": {
   "codemirror_mode": {
    "name": "ipython",
    "version": 3
   },
   "file_extension": ".py",
   "mimetype": "text/x-python",
   "name": "python",
   "nbconvert_exporter": "python",
   "pygments_lexer": "ipython3",
   "version": "3.12.7"
  }
 },
 "nbformat": 4,
 "nbformat_minor": 2
}

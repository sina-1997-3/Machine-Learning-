{
 "cells": [
  {
   "cell_type": "code",
   "execution_count": 1,
   "metadata": {},
   "outputs": [],
   "source": [
    "import numpy as np \n",
    "from matplotlib import pyplot as plt\n",
    "import pandas as pd\n",
    "import os"
   ]
  },
  {
   "cell_type": "code",
   "execution_count": 2,
   "metadata": {},
   "outputs": [
    {
     "name": "stdout",
     "output_type": "stream",
     "text": [
      "Umsatzdaten:\n",
      "        Datum  Warengruppe      Umsatz\n",
      "0  2013-07-01            1  148.828353\n",
      "1  2013-07-02            1  159.793757\n",
      "2  2013-07-03            1  111.885594\n",
      "3  2013-07-04            1  168.864941\n",
      "4  2013-07-05            1  171.280754\n",
      "\n",
      "KIWO:\n",
      "        Datum  KielerWoche\n",
      "0  2012-06-16            1\n",
      "1  2012-06-17            1\n",
      "2  2012-06-18            1\n",
      "3  2012-06-19            1\n",
      "4  2012-06-20            1\n",
      "\n",
      "Wetter:\n",
      "        Datum  Bewoelkung  Temperatur  Windgeschwindigkeit  Wettercode\n",
      "0  2012-01-01         8.0      9.8250                   14        58.0\n",
      "1  2012-01-02         7.0      7.4375                   12         NaN\n",
      "2  2012-01-03         8.0      5.5375                   18        63.0\n",
      "3  2012-01-04         4.0      5.6875                   19        80.0\n",
      "4  2012-01-05         6.0      5.3000                   23        80.0\n",
      "\n",
      "Zusammengeführte Daten:\n",
      "        Datum  Warengruppe      Umsatz  KielerWoche  Bewoelkung  Temperatur  \\\n",
      "0  2014-06-21            1  162.410673            1         6.0     15.5125   \n",
      "1  2014-06-22            1   99.627613            1         5.0     15.7000   \n",
      "2  2014-06-23            1  130.997405            1         4.0     16.5000   \n",
      "3  2014-06-24            1  119.068456            1         7.0     14.3625   \n",
      "4  2014-06-25            1  114.248640            1         0.0     18.4375   \n",
      "\n",
      "   Windgeschwindigkeit  Wettercode  \n",
      "0                   18        61.0  \n",
      "1                   19         NaN  \n",
      "2                   17         NaN  \n",
      "3                    7        21.0  \n",
      "4                   10         NaN  \n"
     ]
    }
   ],
   "source": [
    "umsatzdaten_path = \"/workspaces/Machine-Learning-/umsatzdaten_gekuerzt.csv\"\n",
    "kiwo_path = \"/workspaces/Machine-Learning-/kiwo.csv\"\n",
    "wetter_path = \"/workspaces/Machine-Learning-/wetter.csv\"\n",
    "\n",
    "# Ordner \"data\" erstellen, falls nicht vorhanden\n",
    "output_dir = \"data\"\n",
    "if not os.path.exists(output_dir):\n",
    "    os.makedirs(output_dir)\n",
    "\n",
    "# CSV-Dateien laden\n",
    "umsatzdaten = pd.read_csv(umsatzdaten_path)\n",
    "kiwo = pd.read_csv(kiwo_path)\n",
    "wetter = pd.read_csv(wetter_path)\n",
    "\n",
    "# Optional: Erste Zeilen jeder Datei anzeigen, um Struktur zu prüfen\n",
    "print(\"Umsatzdaten:\")\n",
    "print(umsatzdaten.head())\n",
    "print(\"\\nKIWO:\")\n",
    "print(kiwo.head())\n",
    "print(\"\\nWetter:\")\n",
    "print(wetter.head())\n",
    "\n",
    "# **Annahme**: Die Dateien haben eine gemeinsame Spalte (z. B. Datum, ID) für das Zusammenführen\n",
    "# Beispiel: Zusammenführen über die Spalte \"Datum\"\n",
    "merged_data = pd.merge(umsatzdaten, kiwo, on=\"Datum\", how=\"inner\")\n",
    "merged_data = pd.merge(merged_data, wetter, on=\"Datum\", how=\"inner\")\n",
    "\n",
    "# Ergebnis speichern oder anzeigen\n",
    "print(\"\\nZusammengeführte Daten:\")\n",
    "print(merged_data.head())\n",
    "\n",
    "# Optional: Speichern in eine neue CSV-Datei\n",
    "merged_data.to_csv(\"data/zusammengefuehrt.csv\", index=False)"
   ]
  },
  {
   "cell_type": "code",
   "execution_count": 5,
   "metadata": {},
   "outputs": [
    {
     "name": "stdout",
     "output_type": "stream",
     "text": [
      "       Warengruppe      Umsatz  KielerWoche  Bewoelkung  Temperatur  \\\n",
      "count   223.000000  223.000000        223.0  223.000000  223.000000   \n",
      "mean      2.991031  260.559219          1.0    4.910314   18.418161   \n",
      "std       1.420541  177.014984          0.0    2.066688    3.266123   \n",
      "min       1.000000   46.452105          1.0    0.000000   11.562500   \n",
      "25%       2.000000  127.937248          1.0    4.000000   16.500000   \n",
      "50%       3.000000  213.304835          1.0    5.000000   18.000000   \n",
      "75%       4.000000  368.270772          1.0    7.000000   20.125000   \n",
      "max       5.000000  861.858617          1.0    8.000000   27.875000   \n",
      "\n",
      "       Windgeschwindigkeit  Wettercode  \n",
      "count           223.000000  165.000000  \n",
      "mean             11.515695   48.575758  \n",
      "std               3.986291   30.539888  \n",
      "min               5.000000    0.000000  \n",
      "25%               8.000000   21.000000  \n",
      "50%              10.000000   61.000000  \n",
      "75%              14.000000   61.000000  \n",
      "max              20.000000   95.000000  \n"
     ]
    }
   ],
   "source": [
    "# Deskriptive Statistiken anzeigen\n",
    "df = pd.read_csv(\"data/zusammengefuehrt.csv\")\n",
    "print(df.describe())"
   ]
  },
  {
   "cell_type": "code",
   "execution_count": null,
   "metadata": {},
   "outputs": [],
   "source": []
  }
 ],
 "metadata": {
  "kernelspec": {
   "display_name": "Python 3",
   "language": "python",
   "name": "python3"
  },
  "language_info": {
   "codemirror_mode": {
    "name": "ipython",
    "version": 3
   },
   "file_extension": ".py",
   "mimetype": "text/x-python",
   "name": "python",
   "nbconvert_exporter": "python",
   "pygments_lexer": "ipython3",
   "version": "3.12.1"
  }
 },
 "nbformat": 4,
 "nbformat_minor": 2
}

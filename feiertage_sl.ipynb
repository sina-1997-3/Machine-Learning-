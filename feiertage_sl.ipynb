{
 "cells": [
  {
   "cell_type": "code",
   "execution_count": null,
   "metadata": {},
   "outputs": [
    {
     "name": "stdout",
     "output_type": "stream",
     "text": [
      "CSV-Datei wurde erfolgreich erstellt mit deutschen Wochentagen!\n"
     ]
    }
   ],
   "source": [
    "import csv\n",
    "from datetime import datetime, timedelta\n",
    "\n",
    "# Übersetzung der Wochentage ins Deutsche\n",
    "wochentag_uebersetzung = {\n",
    "    \"Monday\": \"Montag\",\n",
    "    \"Tuesday\": \"Dienstag\",\n",
    "    \"Wednesday\": \"Mittwoch\",\n",
    "    \"Thursday\": \"Donnerstag\",\n",
    "    \"Friday\": \"Freitag\",\n",
    "    \"Saturday\": \"Samstag\",\n",
    "    \"Sunday\": \"Sonntag\"\n",
    "}\n",
    "\n",
    "# Funktion zur Berechnung des Ostersonntags (nach der Gauß'schen Formel)\n",
    "def berechne_ostersonntag(jahr):\n",
    "    a = jahr % 19\n",
    "    b = jahr // 100\n",
    "    c = jahr % 100\n",
    "    d = b // 4\n",
    "    e = b % 4\n",
    "    f = (b + 8) // 25\n",
    "    g = (b - f + 1) // 3\n",
    "    h = (19 * a + b - d - g + 15) % 30\n",
    "    i = c // 4\n",
    "    k = c % 4\n",
    "    l = (32 + 2 * e + 2 * i - h - k) % 7\n",
    "    m = (a + 11 * h + 22 * l) // 451\n",
    "    monat = (h + l - 7 * m + 114) // 31\n",
    "    tag = ((h + l - 7 * m + 114) % 31) + 1\n",
    "    return datetime(jahr, monat, tag)\n",
    "\n",
    "# Liste der Feiertage in Schleswig-Holstein\n",
    "def feiertage_schleswig_holstein(jahr):\n",
    "    ostersonntag = berechne_ostersonntag(jahr)\n",
    "    feiertage = [\n",
    "        (datetime(jahr, 1, 1), \"Neujahr\"),\n",
    "        (ostersonntag - timedelta(days=2), \"Karfreitag\"),\n",
    "        (ostersonntag + timedelta(days=1), \"Ostermontag\"),\n",
    "        (datetime(jahr, 5, 1), \"Tag der Arbeit\"),\n",
    "        (ostersonntag + timedelta(days=39), \"Christi Himmelfahrt\"),\n",
    "        (ostersonntag + timedelta(days=50), \"Pfingstmontag\"),\n",
    "        (datetime(jahr, 10, 3), \"Tag der Deutschen Einheit\"),\n",
    "        (datetime(jahr, 12, 25), \"1. Weihnachtstag\"),\n",
    "        (datetime(jahr, 12, 26), \"2. Weihnachtstag\"),\n",
    "    ]\n",
    "    # Reformationstag ab 2018 hinzufügen\n",
    "    if jahr >= 2018:\n",
    "        feiertage.append((datetime(jahr, 10, 31), \"Reformationstag\"))\n",
    "    return feiertage\n",
    "\n",
    "# Feiertage für den Zeitraum berechnen und in CSV speichern\n",
    "def erstelle_csv(start_jahr, end_jahr, dateiname):\n",
    "    alle_feiertage = []\n",
    "    for jahr in range(start_jahr, end_jahr + 1):\n",
    "        alle_feiertage.extend(feiertage_schleswig_holstein(jahr))\n",
    "    \n",
    "    # Nach Datum sortieren\n",
    "    alle_feiertage.sort(key=lambda x: x[0])\n",
    "    \n",
    "    # CSV-Datei erstellen\n",
    "    with open(dateiname, mode=\"w\", newline=\"\", encoding=\"utf-8\") as file:\n",
    "        writer = csv.writer(file)\n",
    "        writer.writerow([\"Datum\", \"Wochentag\", \"Feiertag\"])\n",
    "        for datum, feiertag in alle_feiertage:\n",
    "            if datum >= datetime(2012, 1, 1) and datum <= datetime(2019, 8, 1):\n",
    "                writer.writerow([\n",
    "                    datum.strftime(\"%Y-%m-%d\"),\n",
    "                    wochentag_uebersetzung[datum.strftime(\"%A\")],  # Manuelle Übersetzung\n",
    "                    feiertag\n",
    "                ])\n",
    "\n",
    "# CSV erstellen\n",
    "#erstelle_csv(2012, 2019, \"feiertage_schleswig_holstein.csv\")\n",
    "#print(\"CSV-Datei wurde erfolgreich erstellt mit deutschen Wochentagen!\")\n",
    "\n"
   ]
  },
  {
   "cell_type": "code",
   "execution_count": 2,
   "metadata": {},
   "outputs": [
    {
     "name": "stdout",
     "output_type": "stream",
     "text": [
      "Die Daten wurden erfolgreich zusammengeführt und in 'kombinierte_feiertage_wetter.csv' gespeichert.\n"
     ]
    }
   ],
   "source": [
    "# Zusammenführen der Wetter-Datei und Feiertags-Datei\n",
    "import csv\n",
    "import pandas as pd\n",
    "\n",
    "# Wetterdaten einlesen\n",
    "wetter_datei = 'wetter.csv'  # Beispiel: Pfad zu deiner Wetterdatei\n",
    "wetter_df = pd.read_csv(wetter_datei, delimiter=',', parse_dates=['Datum'])\n",
    "\n",
    "# Feiertagsdaten einlesen\n",
    "feiertage_datei = '/workspaces/Machine-Learning-/Data Import and Preparation/feiertage_schleswig_holstein.csv'  # Beispiel: Pfad zu deiner Feiertagsdatei\n",
    "feiertage_df = pd.read_csv(feiertage_datei, delimiter=',', parse_dates=['Datum'])\n",
    "\n",
    "# Beide DataFrames anhand des Datums zusammenführen\n",
    "merged_df = pd.merge(feiertage_df, wetter_df, on='Datum', how='left')\n",
    "\n",
    "# Kombinierte Datei speichern\n",
    "merged_df.to_csv('kombinierte_feiertage_wetter.csv', index=False, encoding='utf-8')\n",
    "\n",
    "print(\"Die Daten wurden erfolgreich zusammengeführt und in 'kombinierte_feiertage_wetter.csv' gespeichert.\")"
   ]
  },
  {
   "cell_type": "code",
   "execution_count": null,
   "metadata": {},
   "outputs": [],
   "source": []
  }
 ],
 "metadata": {
  "kernelspec": {
   "display_name": "Python 3",
   "language": "python",
   "name": "python3"
  },
  "language_info": {
   "codemirror_mode": {
    "name": "ipython",
    "version": 3
   },
   "file_extension": ".py",
   "mimetype": "text/x-python",
   "name": "python",
   "nbconvert_exporter": "python",
   "pygments_lexer": "ipython3",
   "version": "3.12.1"
  }
 },
 "nbformat": 4,
 "nbformat_minor": 2
}

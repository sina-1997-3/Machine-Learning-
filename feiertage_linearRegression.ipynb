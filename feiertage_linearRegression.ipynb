{
 "cells": [
  {
   "cell_type": "code",
   "execution_count": 1,
   "metadata": {},
   "outputs": [
    {
     "ename": "ModuleNotFoundError",
     "evalue": "No module named 'sklearn'",
     "output_type": "error",
     "traceback": [
      "\u001b[1;31m---------------------------------------------------------------------------\u001b[0m",
      "\u001b[1;31mModuleNotFoundError\u001b[0m                       Traceback (most recent call last)",
      "Cell \u001b[1;32mIn[1], line 3\u001b[0m\n\u001b[0;32m      1\u001b[0m \u001b[38;5;28;01mimport\u001b[39;00m \u001b[38;5;21;01mpandas\u001b[39;00m \u001b[38;5;28;01mas\u001b[39;00m \u001b[38;5;21;01mpd\u001b[39;00m\n\u001b[0;32m      2\u001b[0m \u001b[38;5;28;01mimport\u001b[39;00m \u001b[38;5;21;01mnumpy\u001b[39;00m \u001b[38;5;28;01mas\u001b[39;00m \u001b[38;5;21;01mnp\u001b[39;00m\n\u001b[1;32m----> 3\u001b[0m \u001b[38;5;28;01mfrom\u001b[39;00m \u001b[38;5;21;01msklearn\u001b[39;00m\u001b[38;5;21;01m.\u001b[39;00m\u001b[38;5;21;01mlinear_model\u001b[39;00m \u001b[38;5;28;01mimport\u001b[39;00m LinearRegression\n\u001b[0;32m      4\u001b[0m \u001b[38;5;28;01mfrom\u001b[39;00m \u001b[38;5;21;01msklearn\u001b[39;00m\u001b[38;5;21;01m.\u001b[39;00m\u001b[38;5;21;01mmetrics\u001b[39;00m \u001b[38;5;28;01mimport\u001b[39;00m r2_score\n\u001b[0;32m      5\u001b[0m \u001b[38;5;28;01mimport\u001b[39;00m \u001b[38;5;21;01mos\u001b[39;00m\n",
      "\u001b[1;31mModuleNotFoundError\u001b[0m: No module named 'sklearn'"
     ]
    }
   ],
   "source": [
    "import pandas as pd\n",
    "import numpy as np\n",
    "from sklearn.linear_model import LinearRegression\n",
    "from sklearn.metrics import r2_score\n",
    "import os"
   ]
  },
  {
   "cell_type": "code",
   "execution_count": null,
   "metadata": {},
   "outputs": [],
   "source": [
    "# 1. Daten laden\n",
    "required_files = [\"umsatzdaten_gekuerzt.csv\", \"kiwo.csv\", \"wetter.csv\", \"Data Import and Preparation/feiertage.csv\"]\n",
    "for file in required_files:\n",
    "    if not os.path.exists(file):\n",
    "        raise FileNotFoundError(f\"Datei '{file}' nicht gefunden.\")\n",
    "\n",
    "umsatzdaten = pd.read_csv(\"umsatzdaten_gekuerzt.csv\")\n",
    "kiwo_data = pd.read_csv(\"kiwo.csv\")\n",
    "wetter_data = pd.read_csv(\"wetter.csv\")\n",
    "feiertage = pd.read_csv(\"Data Import and Preparation/feiertage.csv\")"
   ]
  },
  {
   "cell_type": "code",
   "execution_count": null,
   "metadata": {},
   "outputs": [],
   "source": [
    "# 2. Datum anpassen und konvertieren\n",
    "umsatzdaten['Datum'] = pd.to_datetime(umsatzdaten['Datum'], errors='coerce')\n",
    "kiwo_data['Datum'] = pd.to_datetime(kiwo_data['Datum'], errors='coerce')\n",
    "wetter_data['Datum'] = pd.to_datetime(wetter_data['Datum'], errors='coerce')\n",
    "\n",
    "# Feiertags-Datum anpassen\n",
    "feiertage['Datum'] = feiertage['Datum'].apply(lambda x: f\"{x.strip()} 2017\")\n",
    "feiertage['Datum'] = pd.to_datetime(feiertage['Datum'], format='%d. %b %Y', errors='coerce')"
   ]
  },
  {
   "cell_type": "code",
   "execution_count": null,
   "metadata": {},
   "outputs": [],
   "source": [
    "# 3. Daten zusammenführen\n",
    "merged_data = umsatzdaten.merge(kiwo_data, on='Datum', how='left')\n",
    "merged_data = merged_data.merge(wetter_data, on='Datum', how='left')\n",
    "merged_data = merged_data.merge(feiertage[['Datum', 'Name']], on='Datum', how='left')"
   ]
  },
  {
   "cell_type": "code",
   "execution_count": null,
   "metadata": {},
   "outputs": [],
   "source": [
    "# 4. Zusätzliche Variablen erstellen\n",
    "merged_data['Wochentag'] = merged_data['Datum'].dt.day_name()\n",
    "merged_data['Wochentag_Nummer'] = merged_data['Datum'].dt.weekday\n",
    "merged_data['Monat'] = merged_data['Datum'].dt.month\n",
    "merged_data['Quartal'] = merged_data['Datum'].dt.quarter\n",
    "merged_data['Ist_Wochenende'] = merged_data['Wochentag'].isin(['Saturday', 'Sunday']).astype(int)\n",
    "merged_data['Ist_Feiertag'] = merged_data['Name'].notnull().astype(int)\n",
    "\n",
    "def categorize_temperature(temp):\n",
    "    if temp < 10:\n",
    "        return \"Kalt\"\n",
    "    elif 10 <= temp < 20:\n",
    "        return \"Mild\"\n",
    "    else:\n",
    "        return \"Warm\"\n",
    "\n",
    "merged_data['Temperatur_Kategorie'] = merged_data['Temperatur'].apply(categorize_temperature)\n",
    "merged_data['Feiertagsnaehe'] = (\n",
    "    (merged_data['Ist_Feiertag'] == 1) |\n",
    "    (merged_data['Datum'] - pd.Timedelta(days=1)).isin(feiertage['Datum']) |\n",
    "    (merged_data['Datum'] + pd.Timedelta(days=1)).isin(feiertage['Datum'])\n",
    ").astype(int)\n",
    "merged_data['Umsatz_Trend_7_Tage'] = merged_data['Umsatz'].rolling(window=7, min_periods=1).mean()"
   ]
  },
  {
   "cell_type": "code",
   "execution_count": null,
   "metadata": {},
   "outputs": [],
   "source": [
    "# 5. Datensatz teilen\n",
    "train_data = merged_data[(merged_data['Datum'] >= '2013-07-01') & (merged_data['Datum'] <= '2017-07-31')]\n",
    "validation_data = merged_data[(merged_data['Datum'] >= '2017-08-01') & (merged_data['Datum'] <= '2018-07-31')]"
   ]
  },
  {
   "cell_type": "code",
   "execution_count": null,
   "metadata": {},
   "outputs": [],
   "source": [
    "# 6. Lineares Modell erstellen\n",
    "features = ['Wochentag_Nummer', 'Feiertagsnaehe', 'Temperatur', 'Ist_Wochenende']\n",
    "X_train = train_data[features]\n",
    "y_train = train_data['Umsatz']\n",
    "\n",
    "model = LinearRegression()\n",
    "model.fit(X_train, y_train)"
   ]
  },
  {
   "cell_type": "code",
   "execution_count": null,
   "metadata": {},
   "outputs": [],
   "source": [
    "# 7. Adjustiertes R^2 berechnen\n",
    "n = len(y_train)\n",
    "p = X_train.shape[1]\n",
    "r2 = model.score(X_train, y_train)\n",
    "adj_r2 = 1 - ((1 - r2) * (n - 1) / (n - p - 1))\n",
    "\n",
    "# Ergebnisse ausgeben\n",
    "print(\"R²:\", r2)\n",
    "print(\"Adjustiertes R²:\", adj_r2)"
   ]
  },
  {
   "cell_type": "code",
   "execution_count": null,
   "metadata": {},
   "outputs": [],
   "source": [
    "# 8. Ergebnisse speichern\n",
    "output_dir = \"Baseline Model\"\n",
    "if not os.path.exists(output_dir):\n",
    "    os.makedirs(output_dir)\n",
    "\n",
    "# Ergebnisse dokumentieren\n",
    "with open(os.path.join(output_dir, \"results.txt\"), \"w\") as f:\n",
    "    f.write(f\"R²: {r2}\\n\")\n",
    "    f.write(f\"Adjustiertes R²: {adj_r2}\\n\")\n",
    "\n",
    "train_data.to_csv(os.path.join(output_dir, \"train_data.csv\"), index=False)\n",
    "validation_data.to_csv(os.path.join(output_dir, \"validation_data.csv\"), index=False)\n",
    "\n",
    "print(\"Berechnungen abgeschlossen und Ergebnisse gespeichert.\")"
   ]
  }
 ],
 "metadata": {
  "kernelspec": {
   "display_name": "Python 3",
   "language": "python",
   "name": "python3"
  },
  "language_info": {
   "codemirror_mode": {
    "name": "ipython",
    "version": 3
   },
   "file_extension": ".py",
   "mimetype": "text/x-python",
   "name": "python",
   "nbconvert_exporter": "python",
   "pygments_lexer": "ipython3",
   "version": "3.10.0"
  }
 },
 "nbformat": 4,
 "nbformat_minor": 2
}
